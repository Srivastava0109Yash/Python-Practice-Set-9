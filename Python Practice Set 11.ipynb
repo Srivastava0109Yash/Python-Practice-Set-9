{
 "cells": [
  {
   "cell_type": "markdown",
   "id": "fa440711",
   "metadata": {},
   "source": [
    "### Q1. Create a Flask application that displays \"Hello, World!\" on the homepage."
   ]
  },
  {
   "attachments": {},
   "cell_type": "markdown",
   "id": "38e60092",
   "metadata": {},
   "source": [
    "![](![Screenshot_20230308_160846.png)"
   ]
  }
 ],
 "metadata": {
  "kernelspec": {
   "display_name": "Python 3 (ipykernel)",
   "language": "python",
   "name": "python3"
  },
  "language_info": {
   "codemirror_mode": {
    "name": "ipython",
    "version": 3
   },
   "file_extension": ".py",
   "mimetype": "text/x-python",
   "name": "python",
   "nbconvert_exporter": "python",
   "pygments_lexer": "ipython3",
   "version": "3.9.7"
  }
 },
 "nbformat": 4,
 "nbformat_minor": 5
}
