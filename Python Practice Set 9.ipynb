{
 "cells": [
  {
   "cell_type": "markdown",
   "id": "865a9458",
   "metadata": {},
   "source": [
    "### Q1. Write a Python program that prompts the user for two integers and divides the first integer by thesecond integer. If the either variable are none integer then print the value error and second integer iszero, catch the ZeroDivisionError and print an error message to the user."
   ]
  },
  {
   "cell_type": "code",
   "execution_count": 1,
   "id": "40a5d099",
   "metadata": {},
   "outputs": [
    {
     "name": "stdout",
     "output_type": "stream",
     "text": [
      "Enter two integers:  11 0\n",
      "Error! Cannot divide by zero\n"
     ]
    }
   ],
   "source": [
    "try:\n",
    "    n,m=list(map(int,input(\"Enter two integers: \").strip().split()))\n",
    "    \n",
    "    res=n/m\n",
    "    print(f\"The result of {n}/{m} is:{res}\")\n",
    "    \n",
    "except ValueError:\n",
    "    print(\"Error! One or both of inputs are not integer\")\n",
    "    \n",
    "except ZeroDivisionError:\n",
    "    print(\"Error! Cannot divide by zero\")\n",
    "\n"
   ]
  },
  {
   "cell_type": "markdown",
   "id": "4f9a83da",
   "metadata": {},
   "source": [
    "### Q2. Write a Python program that prompts the user for a password and checks whether the password meets certain criteria (e.g., at least 8 characters, contains at least one uppercase letter, etc.). If the password does not meet the criteria, raise a custom exception called PasswordError with a custom error message."
   ]
  },
  {
   "cell_type": "code",
   "execution_count": 2,
   "id": "9f734311",
   "metadata": {},
   "outputs": [],
   "source": [
    "class PasswordError(Exception):\n",
    "    pass\n",
    "\n",
    "def check_password(password):\n",
    "    if len(password) < 8:\n",
    "        raise PasswordError(\"Password must be at least 8 characters long.\")\n",
    "    if not any(char.isupper() for char in password):\n",
    "        raise PasswordError(\"Password must contain at least one uppercase letter.\")\n",
    "    if not any(char.isdigit() for char in password):\n",
    "        raise PasswordError(\"Password must contain at least one digit.\")\n",
    "    return True"
   ]
  },
  {
   "cell_type": "code",
   "execution_count": 3,
   "id": "593c3bd0",
   "metadata": {},
   "outputs": [
    {
     "name": "stdout",
     "output_type": "stream",
     "text": [
      "Enter the Password: yasguhjah\n",
      "Error! Password must contain at least one uppercase letter.\n"
     ]
    }
   ],
   "source": [
    "try:\n",
    "    password=input(\"Enter the Password: \")\n",
    "    check_password(password)\n",
    "    print(\"Valid Password\")\n",
    "    \n",
    "except PasswordError as e:\n",
    "    print(\"Error!\",e)"
   ]
  },
  {
   "cell_type": "markdown",
   "id": "9c69e6ce",
   "metadata": {},
   "source": [
    "### Q3 and Q4. Write a Python program that prompts the user for a number and calculates the square root of the number using the math.sqrt() function. If the number is negative, raise a ValueError with a custom error message."
   ]
  },
  {
   "cell_type": "code",
   "execution_count": 4,
   "id": "e07ade6f",
   "metadata": {},
   "outputs": [
    {
     "name": "stdout",
     "output_type": "stream",
     "text": [
      "enter the number:-11\n",
      "Error Number cannot be negative\n",
      "enter the number:11\n",
      "Square root of 11 is 3.3166247903554\n"
     ]
    }
   ],
   "source": [
    "import math\n",
    "\n",
    "while True:\n",
    "    try:\n",
    "        num=int(input(\"enter the number:\"))\n",
    "        \n",
    "        if num<0:\n",
    "            raise ValueError(\"Error Number cannot be negative\")\n",
    "            \n",
    "        else:\n",
    "            result=math.sqrt(num)\n",
    "            print(f\"Square root of {num} is {result}\")\n",
    "            break\n",
    "    except ValueError as e:\n",
    "        print(e)"
   ]
  },
  {
   "cell_type": "markdown",
   "id": "c432506b",
   "metadata": {},
   "source": [
    "### Q5. Write a Python program that prompts the user for a list of integers and calculates the average of the list. If the list is empty, raise a ValueError with a custom error message."
   ]
  },
  {
   "cell_type": "code",
   "execution_count": 3,
   "id": "e7015786",
   "metadata": {},
   "outputs": [
    {
     "name": "stdout",
     "output_type": "stream",
     "text": [
      "Enter the list of the number:11 22 44\n",
      "Average of the list:  25.666666666666668\n"
     ]
    }
   ],
   "source": [
    "try:\n",
    "    num_lst=list(map(int,input(\"Enter the list of the number:\").strip().split()))\n",
    "    \n",
    "    if len(num_lst)==0:\n",
    "        raise ValueError(\"Empty List.\")\n",
    "    else:\n",
    "        avg=sum(num_lst)/len(num_lst)\n",
    "        \n",
    "        print(\"Average of the list: \",avg)\n",
    "\n",
    "except ValueError as e:\n",
    "    print(\"Error!\",e)"
   ]
  },
  {
   "cell_type": "markdown",
   "id": "5f8d17f0",
   "metadata": {},
   "source": [
    "### Q6. Write a function that takes a string as input and returns the number of vowels in the string. If the input is not a string, raise a TypeError with a custom error message."
   ]
  },
  {
   "cell_type": "code",
   "execution_count": 8,
   "id": "5e9e922c",
   "metadata": {},
   "outputs": [],
   "source": [
    "def count_vowels(string):\n",
    "    try:\n",
    "        if not isinstance(string, str):\n",
    "            raise TypeError(\"Input must be a string\")\n",
    "        \n",
    "        vowels = \"aeiouAEIOU\"\n",
    "        return sum([1 for char in string if char in vowels])\n",
    "    except TypeError as e:\n",
    "        print(\"Error:\", e)"
   ]
  },
  {
   "cell_type": "code",
   "execution_count": 10,
   "id": "94601c0a",
   "metadata": {},
   "outputs": [
    {
     "name": "stdout",
     "output_type": "stream",
     "text": [
      "Error: Input must be a string\n"
     ]
    }
   ],
   "source": [
    "count_vowels(123)"
   ]
  },
  {
   "cell_type": "markdown",
   "id": "8d0adc82",
   "metadata": {},
   "source": [
    "### Q7. write a python program how to handle simple runtime error?"
   ]
  },
  {
   "cell_type": "code",
   "execution_count": 11,
   "id": "0cc7fac8",
   "metadata": {},
   "outputs": [
    {
     "name": "stdout",
     "output_type": "stream",
     "text": [
      "Enter a number: 1\n",
      "Enter another number: 0\n",
      "Error: You can't divide by zero!\n"
     ]
    }
   ],
   "source": [
    "try:\n",
    "    num1 = int(input(\"Enter a number: \"))\n",
    "    num2 = int(input(\"Enter another number: \"))\n",
    "    result = num1 / num2\n",
    "    print(\"The result is:\", result)\n",
    "except ZeroDivisionError:\n",
    "    print(\"Error: You can't divide by zero!\")\n"
   ]
  },
  {
   "cell_type": "markdown",
   "id": "455d17d4",
   "metadata": {},
   "source": [
    "### Q8. write a program how to handle multiple errors with one answer:# Program to handle multiple errors with one."
   ]
  },
  {
   "cell_type": "code",
   "execution_count": 12,
   "id": "2f545adb",
   "metadata": {},
   "outputs": [
    {
     "name": "stdout",
     "output_type": "stream",
     "text": [
      "Enter a number: 7 ff\n",
      "Error: Invalid input. Please enter two non-zero numeric values.\n"
     ]
    }
   ],
   "source": [
    "try:\n",
    "    num1 = int(input(\"Enter a number: \"))\n",
    "    num2 = int(input(\"Enter another number: \"))\n",
    "    result = num1 / num2\n",
    "    print(\"The result is:\", result)\n",
    "except (ZeroDivisionError, ValueError):\n",
    "    print(\"Error: Invalid input. Please enter two non-zero numeric values.\")\n"
   ]
  },
  {
   "cell_type": "markdown",
   "id": "9be54b6e",
   "metadata": {},
   "source": [
    "### Q9. write a program to print the reciprocal of even numbers note:we might want to run a certain block ofcode if the code block inside try runs without any errors. For these cases, you can use the optional else keyword with the try statement."
   ]
  },
  {
   "cell_type": "code",
   "execution_count": 15,
   "id": "519a2efd",
   "metadata": {},
   "outputs": [
    {
     "name": "stdout",
     "output_type": "stream",
     "text": [
      "Enter a number: 1\n",
      "Not an even number!\n"
     ]
    }
   ],
   "source": [
    "try:\n",
    "    num = int(input(\"Enter a number: \"))\n",
    "    assert num % 2 == 0\n",
    "except:\n",
    "    print(\"Not an even number!\")\n",
    "else:\n",
    "    reciprocal = 1/num\n",
    "    print(reciprocal)"
   ]
  },
  {
   "cell_type": "markdown",
   "id": "6786636e",
   "metadata": {},
   "source": [
    "### Q10. How to handle exceptions using the try, except, and finally statements write code."
   ]
  },
  {
   "cell_type": "code",
   "execution_count": 17,
   "id": "bca4f9f4",
   "metadata": {},
   "outputs": [
    {
     "name": "stdout",
     "output_type": "stream",
     "text": [
      "enter a number: 1\n",
      "enter a  number: 0\n",
      "Error! cannot divide by zero\n",
      "Hue hue hue hue\n"
     ]
    }
   ],
   "source": [
    "try:\n",
    "    num1=int(input(\"enter a number: \"))\n",
    "    num2=int(input(\"enter a  number: \"))\n",
    "    res=num1/num2\n",
    "    \n",
    "    print(\"The result is:\",res)\n",
    "\n",
    "except ZeroDivisionError:\n",
    "    print(\"Error! cannot divide by zero\")\n",
    "    \n",
    "finally:\n",
    "    print(\"Hue hue hue hue\")\n"
   ]
  },
  {
   "cell_type": "code",
   "execution_count": null,
   "id": "c4128948",
   "metadata": {},
   "outputs": [],
   "source": []
  }
 ],
 "metadata": {
  "kernelspec": {
   "display_name": "Python 3 (ipykernel)",
   "language": "python",
   "name": "python3"
  },
  "language_info": {
   "codemirror_mode": {
    "name": "ipython",
    "version": 3
   },
   "file_extension": ".py",
   "mimetype": "text/x-python",
   "name": "python",
   "nbconvert_exporter": "python",
   "pygments_lexer": "ipython3",
   "version": "3.9.7"
  }
 },
 "nbformat": 4,
 "nbformat_minor": 5
}
